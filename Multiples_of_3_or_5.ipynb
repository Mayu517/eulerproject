{
  "nbformat": 4,
  "nbformat_minor": 0,
  "metadata": {
    "colab": {
      "provenance": []
    },
    "kernelspec": {
      "name": "python3",
      "display_name": "Python 3"
    },
    "language_info": {
      "name": "python"
    }
  },
  "cells": [
    {
      "cell_type": "markdown",
      "source": [
        "If we list all the natural numbers below  10  that are multiples of  3  or  5 , we get  3,5,6  and  9 . The sum of these multiples is  23 . Find the sum of all the multiples of  3  or  5  below  1000 ."
      ],
      "metadata": {
        "id": "W5Ez4WfTFvJr"
      }
    },
    {
      "cell_type": "code",
      "source": [
        "sum = 0\n",
        "for i in range(1000):\n",
        "  if i % 3 == 0 or i % 5 == 0:\n",
        "   sum += i\n",
        "\n",
        "print(\"The answer is\", sum)\n"
      ],
      "metadata": {
        "colab": {
          "base_uri": "https://localhost:8080/"
        },
        "id": "WlMPkZrYF3UL",
        "outputId": "8690480e-b9e8-46fb-cd94-ab229663b531"
      },
      "execution_count": 7,
      "outputs": [
        {
          "output_type": "stream",
          "name": "stdout",
          "text": [
            "The answer is 233168\n"
          ]
        }
      ]
    }
  ]
}